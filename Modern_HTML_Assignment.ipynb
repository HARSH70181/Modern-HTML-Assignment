{
  "nbformat": 4,
  "nbformat_minor": 0,
  "metadata": {
    "colab": {
      "provenance": []
    },
    "kernelspec": {
      "name": "python3",
      "display_name": "Python 3"
    },
    "language_info": {
      "name": "python"
    }
  },
  "cells": [
    {
      "cell_type": "markdown",
      "source": [
        "1. List out the features of HTML6."
      ],
      "metadata": {
        "id": "HiwvbLPD3gR_"
      }
    },
    {
      "cell_type": "markdown",
      "source": [
        "ANS.-> 1 Custom Elements as Standard\n",
        "\n",
        "Deeper support for Web Components and reusable custom HTML tags.\n",
        "\n",
        "2 Built-in SEO & Accessibility Enhancements\n",
        "\n",
        "Semantic tags with more built-in accessibility (like <carousel>, <modal>, etc.)\n",
        "\n",
        "3 Improved Form Elements\n",
        "\n",
        "More input types (like credit-card, date-range, email-confirm)\n",
        "\n",
        "Smarter validation rules\n",
        "\n",
        "4 Native Support for Responsive Design\n",
        "\n",
        "Layout containers like <grid> or <layout> with built-in responsiveness\n",
        "\n",
        "5 Client-Side Database Improvements\n",
        "\n",
        "Better integration with local storage or new storage APIs like IndexedDB\n",
        "\n",
        "6 Declarative Shadow DOM\n",
        "\n",
        "Easier ways to encapsulate styles and scripts using a simple syntax\n",
        "\n",
        "7 Modular JavaScript Integration\n",
        "\n",
        "Better support for script type and ES module-based loading\n",
        "\n",
        "8 Multimedia Enhancements\n",
        "\n",
        "More customizable video and audio controls\n",
        "\n",
        "Adaptive streaming natively supported\n",
        "\n",
        "9 Improved Template & Binding Syntax\n",
        "\n",
        "Native data binding without relying on frameworks (like Angular, React, etc.)\n",
        "\n",
        "10 Built-in Real-Time Communication Tags\n",
        "\n",
        "HTML elements for chat, notifications, or WebRTC use cases"
      ],
      "metadata": {
        "id": "M0THt6M83-3l"
      }
    },
    {
      "cell_type": "code",
      "source": [
        "2.  What are HTML Entities? List out 5 commonly used HTML entities"
      ],
      "metadata": {
        "id": "ewFDGSp25j2u"
      },
      "execution_count": null,
      "outputs": []
    },
    {
      "cell_type": "markdown",
      "source": [
        "Ans.-> HTML entities are special codes used to display reserved characters in HTML or characters that can't be typed directly using a keyboard. They begin with an ampersand (&) and end with a semicolon (;).\n",
        "\n",
        "They're especially useful for:\n",
        "\n",
        "Displaying characters like <, >, or & that have special meaning in HTML.\n",
        "\n",
        "Representing characters from other languages.\n",
        "\n",
        "Ensuring consistent rendering across browsers.\n",
        "\n",
        " 5 Commonly Used HTML Entities\n",
        "\n",
        " Character\tEntity Code \tDescription\n",
        "1 <\t        &lt;\t      Less-than symbol\n",
        "2 >\t        &gt;\t      Greater-than symbol\n",
        "3 &\t        &amp;\t      Ampersand symbol\n",
        "4 \"       \t&quot;\t    Double quote\n",
        "5 '\t        &apos;\t    Single quote (apostrophe)"
      ],
      "metadata": {
        "id": "y58v9sSv55sk"
      }
    },
    {
      "cell_type": "markdown",
      "source": [
        "3. > Define accessibility in the context of web development. Discuss why it's essential to create accessible websites and how it benefits different user group\""
      ],
      "metadata": {
        "id": "9UwXHK0d8T95"
      }
    },
    {
      "cell_type": "markdown",
      "source": [
        "Ans.-> ### 🌐 What is **Accessibility** in Web Development?\n",
        "\n",
        "**Accessibility (a11y)** in web development refers to designing and building websites, apps, and digital content so that **all users**, including those with **disabilities or impairments**, can **perceive, understand, navigate, and interact** with them effectively.\n",
        "\n",
        "This includes people with:\n",
        "\n",
        "- **Visual impairments** (e.g., blindness, color blindness)\n",
        "- **Hearing impairments**\n",
        "- **Motor disabilities** (e.g., limited use of hands)\n",
        "- **Cognitive or neurological conditions** (e.g., dyslexia, ADHD)\n",
        "- **Temporary impairments** (e.g., a broken arm, bright sunlight on screen)\n",
        "\n",
        "---\n",
        "\n",
        "###  Why Accessibility Is Essential\n",
        "\n",
        "1. **Inclusivity & Equal Access**  \n",
        "   - Everyone, regardless of ability, deserves full access to digital content.\n",
        "\n",
        "2. **Legal Compliance**  \n",
        "   - Laws like the **ADA**, **Section 508** (US), **EN 301 549** (EU), and **WCAG** guidelines require accessible websites.\n",
        "\n",
        "3. **Improves User Experience (UX) for All**  \n",
        "   - Clear structure, captions, keyboard navigation—these help *everyone*, not just users with disabilities.\n",
        "\n",
        "4. **Expands Audience Reach**  \n",
        "   - 1+ billion people worldwide live with some form of disability (WHO). Accessible sites reach a broader user base.\n",
        "\n",
        "5. **SEO Benefits**  \n",
        "   - Accessibility best practices often align with good SEO (e.g., semantic HTML, alt text, proper headings).\n",
        "\n",
        "---\n",
        "\n",
        "### 👥 Who Benefits from Accessibility?\n",
        "\n",
        "| User Group                     | How Accessibility Helps                         |\n",
        "|-------------------------------|--------------------------------------------------|\n",
        "| Blind or low-vision users     | Screen reader support, alt text for images      |\n",
        "| Deaf or hard of hearing       | Captions, transcripts for audio/video           |\n",
        "| Motor-impaired users          | Full keyboard navigation, voice control support |\n",
        "| Elderly users                 | Larger text, simplified navigation              |\n",
        "| Mobile users                  | Better responsiveness and voice interaction     |\n",
        "| Users with cognitive issues   | Clear layouts, consistent UI, minimal distractions |\n",
        "\n",
        "---\n",
        "\n",
        "### 🛠️ How to Build Accessible Websites?\n",
        "\n",
        "- Use **semantic HTML** (e.g., `<header>`, `<nav>`, `<main>`)\n",
        "- Provide **alt text** for images\n",
        "- Ensure good **color contrast**\n",
        "- Enable **keyboard navigation**\n",
        "- Label form elements clearly\n",
        "- Add **ARIA roles** where needed\n",
        "- Use **captions** or transcripts for media\n",
        "\n",
        "---\n",
        "\n",
        "Let me know if you want a checklist, code examples, or tools to test accessibility!"
      ],
      "metadata": {
        "id": "15alQG3d8ien"
      }
    },
    {
      "cell_type": "markdown",
      "source": [
        "4. List any 3 ways which help us in improving the accessibility of HTM1\n"
      ],
      "metadata": {
        "id": "yidaAOGi9DdN"
      }
    },
    {
      "cell_type": "markdown",
      "source": [
        "Ans.-> Sure! Here are **3 effective ways** to improve the **accessibility** of your HTML:\n",
        "\n",
        "---\n",
        "\n",
        "### 1. Use **Semantic HTML Elements**\n",
        "- Use tags like `<header>`, `<nav>`, `<main>`, `<article>`, `<footer>`, etc.\n",
        "- These help screen readers and other assistive technologies **understand the structure** of the page.\n",
        "\n",
        "**Example:**\n",
        "```html\n",
        "<main>\n",
        "  <article>\n",
        "    <h1>News Title</h1>\n",
        "    <p>Article content here...</p>\n",
        "  </article>\n",
        "</main>\n",
        "```\n",
        "\n",
        "---\n",
        "\n",
        "### 2.  Add **Alt Text to Images**\n",
        "- Use the `alt` attribute to describe images for users who can't see them.\n",
        "- This helps screen readers convey the purpose of the image.\n",
        "\n",
        "**Example:**\n",
        "```html\n",
        "<img src=\"cat.jpg\" alt=\"A sleeping orange cat on a sofa\">\n",
        "```\n",
        "\n",
        "---\n",
        "\n",
        "### 3.  Ensure **Keyboard Navigation**\n",
        "- Make sure users can navigate using the **Tab** key.\n",
        "- This means avoiding JavaScript-only interactions and using proper focusable elements like `<button>`, `<a>`, and form controls.\n",
        "\n",
        "**Tips:**\n",
        "- Use `tabindex` when needed.\n",
        "- Avoid using `div` or `span` for clickable actions unless absolutely necessary—and then give them roles and keyboard events.\n",
        "\n",
        "---\n",
        "\n",
        "Let me know if you'd like code snippets or tools to test accessibility!"
      ],
      "metadata": {
        "id": "f8-sZwOB9GuU"
      }
    },
    {
      "cell_type": "markdown",
      "source": [
        "5. Create a web page that highlights the features of HTML5. Use appropriate semantic tags to structure the\n",
        "content and showcase at least three key features of HTML5 with explanations>"
      ],
      "metadata": {
        "id": "0JZ0F9li9x_U"
      }
    },
    {
      "cell_type": "code",
      "source": [
        "Ans.->"
      ],
      "metadata": {
        "id": "sjJIdMrU96xF"
      },
      "execution_count": null,
      "outputs": []
    },
    {
      "cell_type": "code",
      "source": [
        "<!DOCTYPE html>\n",
        "<html lang=\"en\">\n",
        "<head>\n",
        "  <meta charset=\"UTF-8\">\n",
        "  <meta name=\"viewport\" content=\"width=device-width, initial-scale=1.0\">\n",
        "  <title>Features of HTML5</title>\n",
        "  <style>\n",
        "    body {\n",
        "      font-family: Arial, sans-serif;\n",
        "      line-height: 1.6;\n",
        "      background: #f4f4f4;\n",
        "      color: #333;\n",
        "      margin: 0;\n",
        "      padding: 0;\n",
        "    }\n",
        "    header, footer {\n",
        "      background-color: #333;\n",
        "      color: white;\n",
        "      text-align: center;\n",
        "      padding: 1rem 0;\n",
        "    }\n",
        "    main {\n",
        "      max-width: 900px;\n",
        "      margin: 2rem auto;\n",
        "      padding: 1rem;\n",
        "      background: white;\n",
        "      border-radius: 5px;\n",
        "    }\n",
        "    section {\n",
        "      margin-bottom: 2rem;\n",
        "    }\n",
        "    h2 {\n",
        "      color: #0077cc;\n",
        "    }\n",
        "  </style>\n",
        "</head>\n",
        "<body>\n",
        "\n",
        "  <header>\n",
        "    <h1>Top Features of HTML5</h1>\n",
        "    <p>A Modern Standard for the Web</p>\n",
        "  </header>\n",
        "\n",
        "  <main>\n",
        "    <section>\n",
        "      <h2>1. Semantic Elements</h2>\n",
        "      <p>HTML5 introduced new semantic tags like <code>&lt;header&gt;</code>, <code>&lt;footer&gt;</code>, <code>&lt;article&gt;</code>, and <code>&lt;section&gt;</code>. These help developers structure content in a meaningful way, improving accessibility and SEO.</p>\n",
        "    </section>\n",
        "\n",
        "    <section>\n",
        "      <h2>2. Multimedia Support</h2>\n",
        "      <p>HTML5 allows native embedding of audio and video using the <code>&lt;audio&gt;</code> and <code>&lt;video&gt;</code> tags without the need for third-party plugins like Flash.</p>\n",
        "      <video width=\"320\" controls>\n",
        "        <source src=\"sample.mp4\" type=\"video/mp4\">\n",
        "        Your browser does not support the video tag.\n",
        "      </video>\n",
        "    </section>\n",
        "\n",
        "    <section>\n",
        "      <h2>3. Offline Storage</h2>\n",
        "      <p>With features like <strong>Local Storage</strong> and <strong>Session Storage</strong>, HTML5 allows web apps to store data locally on the user’s device, enabling offline access and better performance.</p>\n",
        "    </section>\n",
        "  </main>\n",
        "\n",
        "  <footer>\n",
        "    <p>&copy; 2025 HTML5 Showcase | Built with ❤️ and Semantic HTML</p>\n",
        "  </footer>\n",
        "\n",
        "</body>\n",
        "</html>\n"
      ],
      "metadata": {
        "id": "h58BF38A99Ii"
      },
      "execution_count": null,
      "outputs": []
    },
    {
      "cell_type": "code",
      "source": [
        "Semantic Tags: <header>, <main>, <section>, <footer>\n",
        "\n",
        "HTML5 Features Highlighted:\n",
        "\n",
        "Semantic structure\n",
        "\n",
        "Native multimedia\n",
        "\n",
        "Offline storage (described in text)\n",
        "\n",
        "Responsive Meta Tag for mobile-friendliness\n",
        "\n"
      ],
      "metadata": {
        "colab": {
          "base_uri": "https://localhost:8080/",
          "height": 110
        },
        "id": "2eq3DaXC-VQv",
        "outputId": "16ece082-2607-47a0-a89e-f9886b2a113a"
      },
      "execution_count": 1,
      "outputs": [
        {
          "output_type": "error",
          "ename": "SyntaxError",
          "evalue": "invalid syntax (<ipython-input-1-7f9bad33e796>, line 1)",
          "traceback": [
            "\u001b[0;36m  File \u001b[0;32m\"<ipython-input-1-7f9bad33e796>\"\u001b[0;36m, line \u001b[0;32m1\u001b[0m\n\u001b[0;31m    Semantic Tags: <header>, <main>, <section>, <footer>\u001b[0m\n\u001b[0m             ^\u001b[0m\n\u001b[0;31mSyntaxError\u001b[0m\u001b[0;31m:\u001b[0m invalid syntax\n"
          ]
        }
      ]
    },
    {
      "cell_type": "markdown",
      "source": [
        "6. Create a simple web page which has a table. The table must have 2 columns HTML and HTML5. The table\n",
        "should include a minimum of three rows describing the differences between HTML and HTML5."
      ],
      "metadata": {
        "id": "psnvI5zw-cRv"
      }
    },
    {
      "cell_type": "markdown",
      "source": [
        "Ans.-> HTML vs HTML5 Comparison Web Page (Code Example)"
      ],
      "metadata": {
        "id": "O9zCSIQ8-vnh"
      }
    },
    {
      "cell_type": "code",
      "source": [
        "<!DOCTYPE html>\n",
        "<html lang=\"en\">\n",
        "<head>\n",
        "  <meta charset=\"UTF-8\">\n",
        "  <meta name=\"viewport\" content=\"width=device-width, initial-scale=1.0\">\n",
        "  <title>HTML vs HTML5</title>\n",
        "  <style>\n",
        "    body {\n",
        "      font-family: Arial, sans-serif;\n",
        "      background-color: #f9f9f9;\n",
        "      padding: 2rem;\n",
        "    }\n",
        "    h1 {\n",
        "      text-align: center;\n",
        "      color: #333;\n",
        "    }\n",
        "    table {\n",
        "      width: 100%;\n",
        "      border-collapse: collapse;\n",
        "      margin-top: 2rem;\n",
        "      background-color: white;\n",
        "    }\n",
        "    th, td {\n",
        "      padding: 1rem;\n",
        "      border: 1px solid #ccc;\n",
        "      text-align: left;\n",
        "    }\n",
        "    th {\n",
        "      background-color: #0077cc;\n",
        "      color: white;\n",
        "    }\n",
        "    tr:nth-child(even) {\n",
        "      background-color: #f2f2f2;\n",
        "    }\n",
        "  </style>\n",
        "</head>\n",
        "<body>\n",
        "\n",
        "  <h1>Comparison: HTML vs HTML5</h1>\n",
        "\n",
        "  <table>\n",
        "    <thead>\n",
        "      <tr>\n",
        "        <th>HTML</th>\n",
        "        <th>HTML5</th>\n",
        "      </tr>\n",
        "    </thead>\n",
        "    <tbody>\n",
        "      <tr>\n",
        "        <td>Does not support audio and video natively.</td>\n",
        "        <td>Supports native audio and video embedding with &lt;audio&gt; and &lt;video&gt; tags.</td>\n",
        "      </tr>\n",
        "      <tr>\n",
        "        <td>No support for local storage.</td>\n",
        "        <td>Includes Web Storage API like localStorage and sessionStorage.</td>\n",
        "      </tr>\n",
        "      <tr>\n",
        "        <td>Limited semantic elements.</td>\n",
        "        <td>Introduces semantic tags like &lt;header&gt;, &lt;footer&gt;, &lt;article&gt;, and &lt;section&gt;.</td>\n",
        "      </tr>\n",
        "    </tbody>\n",
        "  </table>\n",
        "\n",
        "</body>\n",
        "</html>\n"
      ],
      "metadata": {
        "id": "_UlsD-EG-0CK"
      },
      "execution_count": null,
      "outputs": []
    },
    {
      "cell_type": "markdown",
      "source": [
        "Highlights:\n",
        "\n",
        "Clean and responsive layout using basic CSS.\n",
        "\n",
        "Uses <table>, <thead>, <tbody>, <th>, and <td> appropriately.\n",
        "\n",
        "Compares key differences in functionality and structure between HTML and HTML5."
      ],
      "metadata": {
        "id": "mObT7CcJ_BNl"
      }
    }
  ]
}